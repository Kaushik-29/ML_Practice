{
  "nbformat": 4,
  "nbformat_minor": 0,
  "metadata": {
    "colab": {
      "provenance": [],
      "authorship_tag": "ABX9TyOvqH5w2VbzPcOzoozewYE1",
      "include_colab_link": true
    },
    "kernelspec": {
      "name": "python3",
      "display_name": "Python 3"
    },
    "language_info": {
      "name": "python"
    }
  },
  "cells": [
    {
      "cell_type": "markdown",
      "metadata": {
        "id": "view-in-github",
        "colab_type": "text"
      },
      "source": [
        "<a href=\"https://colab.research.google.com/github/Kaushik-29/ML_Practice/blob/main/Practice_1.ipynb\" target=\"_parent\"><img src=\"https://colab.research.google.com/assets/colab-badge.svg\" alt=\"Open In Colab\"/></a>"
      ]
    },
    {
      "cell_type": "markdown",
      "source": [
        "**1. Devise a program to import, load and view dataset**"
      ],
      "metadata": {
        "id": "pVKjU7ZXRVzh"
      }
    },
    {
      "cell_type": "markdown",
      "source": [
        "1. Load from CSV"
      ],
      "metadata": {
        "id": "twMP4tK3RYe5"
      }
    },
    {
      "cell_type": "markdown",
      "source": [
        "We use pandas,which is used to load, read, and manipulate datasets"
      ],
      "metadata": {
        "id": "i-HaPTQYaT1L"
      }
    },
    {
      "cell_type": "code",
      "source": [
        "#so we import pandas package\n",
        "import pandas as pd\n",
        "file = pd.read_csv('/content/food_waste_with_menu_sannasi_mess.csv')\n",
        "print('dataset is loaded')\n",
        "print(file)"
      ],
      "metadata": {
        "colab": {
          "base_uri": "https://localhost:8080/"
        },
        "id": "juetQhoySjDP",
        "outputId": "5d8ea6eb-007b-4eb5-e011-e0f1047b7a9c"
      },
      "execution_count": null,
      "outputs": [
        {
          "output_type": "stream",
          "name": "stdout",
          "text": [
            "dataset is loaded\n",
            "   S.No        Day      Date  Breakfast Waste (kg)  Lunch Waste (kg)  \\\n",
            "0     1     Sunday  08/06/25                    17                30   \n",
            "1     2     Monday  09/06/25                    13                31   \n",
            "2     3    Tuesday  10/06/25                    11                34   \n",
            "3     4  Wednesday  11/06/25                    14                28   \n",
            "4     5   Thursday  12/06/25                    16                30   \n",
            "5     6     Friday  13/06/25                    20                25   \n",
            "\n",
            "   Dinner Waste (kg)  Total Waste (kg)  \\\n",
            "0                 18                65   \n",
            "1                 29                73   \n",
            "2                 13                58   \n",
            "3                 25                67   \n",
            "4                 27                73   \n",
            "5                 37                82   \n",
            "\n",
            "                                      Breakfast Menu  \\\n",
            "0  Bread, Butter, Jam, Chole Poori, Veg Upma, Coc...   \n",
            "1  Sweet, Bread, Butter, Jam, Idly, Sambar, Spl C...   \n",
            "2  Bread, Butter, Jam, Dosa, Idly Podi, Oil, Arac...   \n",
            "3  Bread, Butter, Jam, Chappathi, Aloo Meal Maker...   \n",
            "4  Bread, Butter, Jam, Podi Dosa, Idly Podi, Oil,...   \n",
            "5  Bread, Butter, Jam, Chappathi, Veg Khurma, Idi...   \n",
            "\n",
            "                                          Lunch Menu  \\\n",
            "0  Chappathi, Chicken (Pepper/Kadai), Paneer Butt...   \n",
            "1  Chappathi, Chapp Kasa, Jeera Pulao, Steamed Ri...   \n",
            "2  Sweet, Poori, Mattar Ghughni, Variety Rice, St...   \n",
            "3  Butter Roti, Aloo Palak, Peas Pulao, Dal Makhn...   \n",
            "4  Luchi, Kashmiri Dum Aloo, Onion Pulao, Steamed...   \n",
            "5  Dry Jamun/Bread Halwa, Veg Biryani, Mix Raitha...   \n",
            "\n",
            "                                         Dinner Menu  \n",
            "0  Sweet, Malabar Paratha, Meal Maker Curry, Mix ...  \n",
            "1  Punjabi Paratha, Rajma Makkan Wala, Dosa, Idly...  \n",
            "2  Chappathi, Mix Veg Khurma, Fried Rice/Noodles,...  \n",
            "3  Chappathi, Steamed Rice, Dal Tadka, Chicken Ma...  \n",
            "4  Ghee Pulao/Kaji Pulao (Basmati Rice), Chappath...  \n",
            "5  Chole Bhatura, Steamed Rice, Tomato Dal, Samba...  \n"
          ]
        }
      ]
    },
    {
      "cell_type": "markdown",
      "source": [
        "2. Load from Xlsx"
      ],
      "metadata": {
        "id": "Nz3fp2D3aWmf"
      }
    },
    {
      "cell_type": "markdown",
      "source": [
        "WE SHOULD INSTALL A PACKAGE NAMED openpyxl TO READ EXCEL"
      ],
      "metadata": {
        "id": "gi417dA3a-FY"
      }
    },
    {
      "cell_type": "code",
      "source": [
        "# so we import pandas package\n",
        "import pandas as pd\n",
        "\n",
        "file = pd.read_excel('/content/food_waste_with_menu_sannasi_mess.xlsx')\n",
        "print(' Excel dataset is loaded')\n",
        "print(file)"
      ],
      "metadata": {
        "colab": {
          "base_uri": "https://localhost:8080/"
        },
        "id": "Z6DVScSYSmUZ",
        "outputId": "22d1b9a2-ae92-41b3-dcef-6c9a9a94f701"
      },
      "execution_count": null,
      "outputs": [
        {
          "output_type": "stream",
          "name": "stdout",
          "text": [
            " Excel dataset is loaded\n",
            "   S.No        Day      Date  Breakfast Waste (kg)  Lunch Waste (kg)  \\\n",
            "0     1     Sunday  08/06/25                    17                30   \n",
            "1     2     Monday  09/06/25                    13                31   \n",
            "2     3    Tuesday  10/06/25                    11                34   \n",
            "3     4  Wednesday  11/06/25                    14                28   \n",
            "4     5   Thursday  12/06/25                    16                30   \n",
            "5     6     Friday  13/06/25                    20                25   \n",
            "\n",
            "   Dinner Waste (kg)  Total Waste (kg)  \\\n",
            "0                 18                65   \n",
            "1                 29                73   \n",
            "2                 13                58   \n",
            "3                 25                67   \n",
            "4                 27                73   \n",
            "5                 37                82   \n",
            "\n",
            "                                      Breakfast Menu  \\\n",
            "0  Bread, Butter, Jam, Chole Poori, Veg Upma, Coc...   \n",
            "1  Sweet, Bread, Butter, Jam, Idly, Sambar, Spl C...   \n",
            "2  Bread, Butter, Jam, Dosa, Idly Podi, Oil, Arac...   \n",
            "3  Bread, Butter, Jam, Chappathi, Aloo Meal Maker...   \n",
            "4  Bread, Butter, Jam, Podi Dosa, Idly Podi, Oil,...   \n",
            "5  Bread, Butter, Jam, Chappathi, Veg Khurma, Idi...   \n",
            "\n",
            "                                          Lunch Menu  \\\n",
            "0  Chappathi, Chicken (Pepper/Kadai), Paneer Butt...   \n",
            "1  Chappathi, Chapp Kasa, Jeera Pulao, Steamed Ri...   \n",
            "2  Sweet, Poori, Mattar Ghughni, Variety Rice, St...   \n",
            "3  Butter Roti, Aloo Palak, Peas Pulao, Dal Makhn...   \n",
            "4  Luchi, Kashmiri Dum Aloo, Onion Pulao, Steamed...   \n",
            "5  Dry Jamun/Bread Halwa, Veg Biryani, Mix Raitha...   \n",
            "\n",
            "                                         Dinner Menu  \n",
            "0  Sweet, Malabar Paratha, Meal Maker Curry, Mix ...  \n",
            "1  Punjabi Paratha, Rajma Makkan Wala, Dosa, Idly...  \n",
            "2  Chappathi, Mix Veg Khurma, Fried Rice/Noodles,...  \n",
            "3  Chappathi, Steamed Rice, Dal Tadka, Chicken Ma...  \n",
            "4  Ghee Pulao/Kaji Pulao (Basmati Rice), Chappath...  \n",
            "5  Chole Bhatura, Steamed Rice, Tomato Dal, Samba...  \n"
          ]
        }
      ]
    },
    {
      "cell_type": "markdown",
      "source": [
        "3. Load JSON"
      ],
      "metadata": {
        "id": "a6rGN4lTbcSs"
      }
    },
    {
      "cell_type": "code",
      "source": [
        "import pandas as pd\n",
        "\n",
        "file = pd.read_json('/content/food_waste_with_menu_sannasi_mess.json')\n",
        "print('SON dataset is loaded')\n",
        "\n",
        "print(file)\n"
      ],
      "metadata": {
        "colab": {
          "base_uri": "https://localhost:8080/"
        },
        "id": "KCWU3NJxbejc",
        "outputId": "5457c1b5-c6ad-4da5-d2ec-d2d8a0c0c07a"
      },
      "execution_count": null,
      "outputs": [
        {
          "output_type": "stream",
          "name": "stdout",
          "text": [
            "SON dataset is loaded\n",
            "   S.No        Day       Date  Breakfast Waste (kg)  Lunch Waste (kg)  \\\n",
            "0     1     Sunday 2025-08-06                    17                30   \n",
            "1     2     Monday 2025-09-06                    13                31   \n",
            "2     3    Tuesday 2025-10-06                    11                34   \n",
            "3     4  Wednesday 2025-11-06                    14                28   \n",
            "4     5   Thursday 2025-12-06                    16                30   \n",
            "5     6     Friday 2025-06-13                    20                25   \n",
            "\n",
            "   Dinner Waste (kg)  Total Waste (kg)  \\\n",
            "0                 18                65   \n",
            "1                 29                73   \n",
            "2                 13                58   \n",
            "3                 25                67   \n",
            "4                 27                73   \n",
            "5                 37                82   \n",
            "\n",
            "                                      Breakfast Menu  \\\n",
            "0  Bread, Butter, Jam, Chole Poori, Veg Upma, Coc...   \n",
            "1  Sweet, Bread, Butter, Jam, Idly, Sambar, Spl C...   \n",
            "2  Bread, Butter, Jam, Dosa, Idly Podi, Oil, Arac...   \n",
            "3  Bread, Butter, Jam, Chappathi, Aloo Meal Maker...   \n",
            "4  Bread, Butter, Jam, Podi Dosa, Idly Podi, Oil,...   \n",
            "5  Bread, Butter, Jam, Chappathi, Veg Khurma, Idi...   \n",
            "\n",
            "                                          Lunch Menu  \\\n",
            "0  Chappathi, Chicken (Pepper/Kadai), Paneer Butt...   \n",
            "1  Chappathi, Chapp Kasa, Jeera Pulao, Steamed Ri...   \n",
            "2  Sweet, Poori, Mattar Ghughni, Variety Rice, St...   \n",
            "3  Butter Roti, Aloo Palak, Peas Pulao, Dal Makhn...   \n",
            "4  Luchi, Kashmiri Dum Aloo, Onion Pulao, Steamed...   \n",
            "5  Dry Jamun/Bread Halwa, Veg Biryani, Mix Raitha...   \n",
            "\n",
            "                                         Dinner Menu  \n",
            "0  Sweet, Malabar Paratha, Meal Maker Curry, Mix ...  \n",
            "1  Punjabi Paratha, Rajma Makkan Wala, Dosa, Idly...  \n",
            "2  Chappathi, Mix Veg Khurma, Fried Rice/Noodles,...  \n",
            "3  Chappathi, Steamed Rice, Dal Tadka, Chicken Ma...  \n",
            "4  Ghee Pulao/Kaji Pulao (Basmati Rice), Chappath...  \n",
            "5  Chole Bhatura, Steamed Rice, Tomato Dal, Samba...  \n"
          ]
        }
      ]
    },
    {
      "cell_type": "markdown",
      "source": [
        "4. Load from URL"
      ],
      "metadata": {
        "id": "cNUFHpH6fSyh"
      }
    },
    {
      "cell_type": "code",
      "source": [
        "import pandas as pd\n",
        "\n",
        "# A publicly hosted CSV file\n",
        "url = \"https://people.sc.fsu.edu/~jburkardt/data/csv/airtravel.csv\"\n",
        "\n",
        "# Load the dataset from the URL\n",
        "df = pd.read_csv(url)\n",
        "\n",
        "print(\"Dataset loaded from URL:\")\n",
        "print(df)\n"
      ],
      "metadata": {
        "colab": {
          "base_uri": "https://localhost:8080/"
        },
        "id": "S1ONK9TJfXTP",
        "outputId": "0e1d30cb-4078-453e-9ba4-67c0677f31f5"
      },
      "execution_count": null,
      "outputs": [
        {
          "output_type": "stream",
          "name": "stdout",
          "text": [
            "Dataset loaded from URL:\n",
            "   Month   \"1958\"   \"1959\"   \"1960\"\n",
            "0    JAN      340      360      417\n",
            "1    FEB      318      342      391\n",
            "2    MAR      362      406      419\n",
            "3    APR      348      396      461\n",
            "4    MAY      363      420      472\n",
            "5    JUN      435      472      535\n",
            "6    JUL      491      548      622\n",
            "7    AUG      505      559      606\n",
            "8    SEP      404      463      508\n",
            "9    OCT      359      407      461\n",
            "10   NOV      310      362      390\n",
            "11   DEC      337      405      432\n"
          ]
        }
      ]
    },
    {
      "cell_type": "markdown",
      "source": [
        "5.Load from TXT"
      ],
      "metadata": {
        "id": "mG7z9qi3gO_F"
      }
    },
    {
      "cell_type": "code",
      "source": [
        "import pandas as pd\n",
        "\n",
        "txt = '/content/food_waste_with_menu_sannasi_mess.txt'\n",
        "\n",
        "file = pd.read_csv(txt, on_bad_lines='skip', delimiter=',')\n",
        "\n",
        "print(\"TXT dataset loaded\")\n",
        "print(file)\n"
      ],
      "metadata": {
        "colab": {
          "base_uri": "https://localhost:8080/"
        },
        "id": "mTWHVhv9gUDI",
        "outputId": "e4aaa81e-243d-4976-8c0d-c67b24cc1687"
      },
      "execution_count": null,
      "outputs": [
        {
          "output_type": "stream",
          "name": "stdout",
          "text": [
            "TXT dataset loaded\n",
            "                                                                                                                                                                                                                                                                                                                                                                                                                                                                                                                                                                                                                                                                                           S.No\\tDay\\tDate\\tBreakfast Waste (kg)\\tLunch Waste (kg)\\tDinner Waste (kg)\\tTotal Waste (kg)\\tBreakfast Menu\\tLunch Menu\\tDinner Menu\n",
            "1\\tSunday\\t8/6/25\\t17\\t30\\t18\\t65\\tBread     Butter Jam    Chole Poori Veg Upma             Coconut Chutney             Tea/Coffee/Milk Boiled Egg\\tChappathi Chicken (Pepper/Kadai)            Paneer Butter Masala (or Veg) Dal Makhni      Mint Pulao        Steamed Rice    Rasam             Pickle                   Fryums           Butter Milk\\tSweet Malabar Paratha Meal Maker Curry       Mix Vegetable Sabji Steamed Rice Dal Makhni                                    Idly                                              Idly Podi Oil             Chutney      Tiffin Sambar   Rasam               Pickle             Fryums              Veg Salad Milk      Special Fruit                                ***Chicken Gravy***                                                                                   \n",
            "2\\tMonday\\t9/6/25\\t13\\t31\\t29\\t73\\tSweet     Bread  Butter Jam         Idly                 Sambar                      Spl Chutney     Poori                 Aloo Dal Masala                   Tea/Coffee/Milk               Boiled Egg      Banana\\tChappathi Chapp Kasa      Jeera Pulao       Steamed Rice             Masala Sambar    Baghara Dal        Mix Veg Usili   Lemon Rasam            Pickle              Butter Milk  Fryums\\tPunjabi Paratha                       Rajma Makkan Wala                                 Dosa      Idly Podi       Oil          Special Chutney Steamed Rice        Vegetable Dal      Rasam               Pickle    Fryums    Veg-Salad                                     ***Mutton Gravy***                                                                                   \n",
            "4\\tWednesday\\t11/6/25\\t14\\t28\\t25\\t67\\tBread Butter Jam    Chappathi   Aloo Meal Maker Kasa Veg Semiya Kichadi          Coconut Chutney Boiled Egg            Tea/Coffee/Milk\\tButter Roti      Aloo Palak                    Peas Pulao      Dal Makhni        Kadai Vegetable Steamed Rice      Drumstick Brinjal Sambar Garlic Rasam     Pickle             Fryums          Butter Milk\\tChappathi Steamed Rice        Dal Tadka    Chicken Masala (Non-Veg)/Paneer Butter Masala Rasam                                             Pickle    Fryums          Veg Salad    Milk            ***Chicken Gravy*** NaN                NaN                 NaN       NaN       NaN                                                          NaN                                                                                   \n",
            "5\\tThursday\\t12/6/25\\t16\\t30\\t27\\t73\\tBread  Butter Jam    Podi Dosa   Idly Podi            Oil                         Chilli Sambar   Chutney               Chappathi                         Muttar Masala                 Tea/Coffee/Milk Boiled Egg        Banana\\tLuchi   Kashmiri Dum Aloo Onion Pulao              Steamed Rice     Mysore Dal Fry     Kadi Pakoda     Pepper Rasam           Poriyaal            Pickle       Fryums                                        Butter Milk\\tGhee Pulao/Kaji Pulao (Basmati Rice) Chappathi Muttar Paneer   Steamed Rice Dal Tadka       Rasam               Aloo Peanut Masala Fryums              Pickle    Veg Salad Milk                                                   Ice Cream                                                                                   \n",
            "6\\tFriday\\t13/06/25\\t20\\t25\\t37\\t82\\tBread   Butter Jam    Chappathi   Veg Khurma           Idiyappam (Lemon or Masala) Coconut Chutney Tea/Coffee/Milk       Boiled Egg\\tDry Jamun/Bread Halwa Veg Biryani                   Mix Raitha      Bisebelabath      Curd Rice       Steamed Rice      Tomato Rasam             Aloo Gobi Adraki Moongdal Tadka     Pickle          Fryums\\tChole Bhatura  Steamed Rice        Tomato Dal   Samba Rava Upma                               Coconut Chutney                                   Rasam     Cabbage Poriyal Pickle       Fryums          Veg Salad           Milk               ***Chicken Gravy*** NaN       NaN       NaN                                                          NaN                                                                                   \n"
          ]
        }
      ]
    },
    {
      "cell_type": "markdown",
      "source": [
        "6. Create a Dataset and Load"
      ],
      "metadata": {
        "id": "uvq6MpANhlMV"
      }
    },
    {
      "cell_type": "code",
      "source": [
        "import pandas as pd\n",
        "\n",
        "data = {\n",
        "    'Date': ['2025-07-01', '2025-07-02', '2025-07-03'],\n",
        "    'Menu': ['Rice & Sambar', 'Chapati & Kurma', 'Pulao & Raita'],\n",
        "    'Food_Wasted_Kg': [5.2, 3.8, 4.1]\n",
        "}\n",
        "\n",
        "ds = pd.DataFrame(data)\n",
        "\n",
        "print(\"Created Dataset:\")\n",
        "print(ds)\n"
      ],
      "metadata": {
        "colab": {
          "base_uri": "https://localhost:8080/"
        },
        "id": "yyYdA0qGhuVk",
        "outputId": "a846ef53-84eb-40ba-f20f-121171e27e62"
      },
      "execution_count": null,
      "outputs": [
        {
          "output_type": "stream",
          "name": "stdout",
          "text": [
            "Created Dataset:\n",
            "         Date             Menu  Food_Wasted_Kg\n",
            "0  2025-07-01    Rice & Sambar             5.2\n",
            "1  2025-07-02  Chapati & Kurma             3.8\n",
            "2  2025-07-03    Pulao & Raita             4.1\n"
          ]
        }
      ]
    }
  ]
}